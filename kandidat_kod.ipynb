{
 "cells": [
  {
   "cell_type": "markdown",
   "id": "71bed436-6326-4dad-811a-fc616d6b993b",
   "metadata": {},
   "source": [
    "# Imports"
   ]
  },
  {
   "cell_type": "markdown",
   "id": "ee83d060-1128-47ee-839b-9a4923f1b803",
   "metadata": {},
   "source": [
    "### python libraries"
   ]
  },
  {
   "cell_type": "code",
   "execution_count": 2,
   "id": "6bc3cd28-bfd6-4dea-93fa-5cd5dc794aec",
   "metadata": {},
   "outputs": [],
   "source": [
    "import csv # for importing and working with .csv files\n",
    "import matplotlib.pyplot as plt # for plotting\n",
    "import scipy.fft as spfft # for functions such as fft\n",
    "import scipy.signal as spsig # for signal processing (filtering)\n",
    "import tensorflow as tf # for machine learning using tensorflow keras\n",
    "import pandas as pd"
   ]
  },
  {
   "cell_type": "markdown",
   "id": "c589cb43-5a82-4233-a84f-00cfd76824a0",
   "metadata": {},
   "source": [
    "### Files"
   ]
  },
  {
   "cell_type": "markdown",
   "id": "303b9d6a-1942-4159-9443-e521ebcfec12",
   "metadata": {},
   "source": [
    "### creating csv file from txt serial logger output "
   ]
  },
  {
   "cell_type": "code",
   "execution_count": null,
   "id": "782fee4b-a2e6-4d70-a9c1-80041f06c9df",
   "metadata": {},
   "outputs": [
    {
     "data": {
      "text/html": [
       "<div>\n",
       "<style scoped>\n",
       "    .dataframe tbody tr th:only-of-type {\n",
       "        vertical-align: middle;\n",
       "    }\n",
       "\n",
       "    .dataframe tbody tr th {\n",
       "        vertical-align: top;\n",
       "    }\n",
       "\n",
       "    .dataframe thead th {\n",
       "        text-align: right;\n",
       "    }\n",
       "</style>\n",
       "<table border=\"1\" class=\"dataframe\">\n",
       "  <thead>\n",
       "    <tr style=\"text-align: right;\">\n",
       "      <th></th>\n",
       "      <th>Timestamp</th>\n",
       "      <th>load1</th>\n",
       "      <th>load2</th>\n",
       "      <th>load3</th>\n",
       "    </tr>\n",
       "  </thead>\n",
       "  <tbody>\n",
       "    <tr>\n",
       "      <th>0</th>\n",
       "      <td>11:13:32.857</td>\n",
       "      <td>2</td>\n",
       "      <td>-6</td>\n",
       "      <td>0</td>\n",
       "    </tr>\n",
       "    <tr>\n",
       "      <th>1</th>\n",
       "      <td>11:13:32.956</td>\n",
       "      <td>5</td>\n",
       "      <td>-3</td>\n",
       "      <td>5</td>\n",
       "    </tr>\n",
       "    <tr>\n",
       "      <th>2</th>\n",
       "      <td>11:13:33.034</td>\n",
       "      <td>-16</td>\n",
       "      <td>0</td>\n",
       "      <td>0</td>\n",
       "    </tr>\n",
       "    <tr>\n",
       "      <th>3</th>\n",
       "      <td>11:13:33.148</td>\n",
       "      <td>-9</td>\n",
       "      <td>2</td>\n",
       "      <td>6</td>\n",
       "    </tr>\n",
       "    <tr>\n",
       "      <th>4</th>\n",
       "      <td>11:13:33.240</td>\n",
       "      <td>13</td>\n",
       "      <td>1</td>\n",
       "      <td>6</td>\n",
       "    </tr>\n",
       "    <tr>\n",
       "      <th>...</th>\n",
       "      <td>...</td>\n",
       "      <td>...</td>\n",
       "      <td>...</td>\n",
       "      <td>...</td>\n",
       "    </tr>\n",
       "    <tr>\n",
       "      <th>319</th>\n",
       "      <td>11:14:03.654</td>\n",
       "      <td>22</td>\n",
       "      <td>70</td>\n",
       "      <td>232</td>\n",
       "    </tr>\n",
       "    <tr>\n",
       "      <th>320</th>\n",
       "      <td>11:14:03.747</td>\n",
       "      <td>29</td>\n",
       "      <td>66</td>\n",
       "      <td>230</td>\n",
       "    </tr>\n",
       "    <tr>\n",
       "      <th>321</th>\n",
       "      <td>11:14:03.858</td>\n",
       "      <td>7</td>\n",
       "      <td>77</td>\n",
       "      <td>251</td>\n",
       "    </tr>\n",
       "    <tr>\n",
       "      <th>322</th>\n",
       "      <td>11:14:03.940</td>\n",
       "      <td>20</td>\n",
       "      <td>62</td>\n",
       "      <td>234</td>\n",
       "    </tr>\n",
       "    <tr>\n",
       "      <th>323</th>\n",
       "      <td>11:14:04.044</td>\n",
       "      <td>9</td>\n",
       "      <td>70</td>\n",
       "      <td>2</td>\n",
       "    </tr>\n",
       "  </tbody>\n",
       "</table>\n",
       "<p>324 rows × 4 columns</p>\n",
       "</div>"
      ],
      "text/plain": [
       "        Timestamp  load1  load2  load3\n",
       "0    11:13:32.857      2     -6      0\n",
       "1    11:13:32.956      5     -3      5\n",
       "2    11:13:33.034    -16      0      0\n",
       "3    11:13:33.148     -9      2      6\n",
       "4    11:13:33.240     13      1      6\n",
       "..            ...    ...    ...    ...\n",
       "319  11:14:03.654     22     70    232\n",
       "320  11:14:03.747     29     66    230\n",
       "321  11:14:03.858      7     77    251\n",
       "322  11:14:03.940     20     62    234\n",
       "323  11:14:04.044      9     70      2\n",
       "\n",
       "[324 rows x 4 columns]"
      ]
     },
     "metadata": {},
     "output_type": "display_data"
    }
   ],
   "source": [
    "# reading txt file and separating with spaces\n",
    "file_name = '3LoadCells_2'\n",
    "log_df = pd.read_csv(f\"Logging/ExampleLogs/{file_name}.txt\", header = None, delimiter=' ') \n",
    "  \n",
    "# adding column headings \n",
    "log_df.columns = ['Timestamp', 'cell1', 'load1','cell2', 'load2','cell3', 'load3'] \n",
    "\n",
    "# dropping unnececary columns\n",
    "log_df = log_df.drop(columns=['cell1', 'cell2','cell3'])\n",
    "\n",
    "# store log_dfframe as csv\n",
    "log_df.to_csv(f'Logging/{file_name}.csv', index = None) \n",
    "display(log_df)"
   ]
  },
  {
   "cell_type": "markdown",
   "id": "9b5e06f8-c903-459a-8956-05d9f9423796",
   "metadata": {},
   "source": [
    "### Plotting collected log_df"
   ]
  },
  {
   "cell_type": "code",
   "execution_count": 12,
   "id": "cfe1ed12",
   "metadata": {},
   "outputs": [
    {
     "data": {
      "image/png": "[encoded data removed]",
      "text/plain": [
       "<Figure size 640x480 with 1 Axes>"
      ]
     },
     "metadata": {},
     "output_type": "display_data"
    }
   ],
   "source": [
    "# reading txt file and separating with spaces\n",
    "file_name = 'FullSetup_LegSwing'\n",
    "log_df = pd.read_csv(f\"Logging/ExampleLogs/{file_name}.txt\", header = None, delimiter=' ') \n",
    "  \n",
    "# adding column headings \n",
    "log_df.columns = ['Timestamp', 'Foot_H', 'loadcell1H','loadcell2H', 'loadcell3H','fel','Foot_V','loadcell1V','loadcell2V', 'loadcell3V', 'DistanceName', 'Distance'] \n",
    "\n",
    "# dropping unnececary columns\n",
    "log_df = log_df.drop(columns=['Foot_H', 'Foot_V','DistanceName','fel'])\n",
    "\n",
    "#plt.plot(log_df['Timestamp'], log_df['loadcell1H']-log_df['loadcell1H'].mean(),label=\"HögerInsida\")\n",
    "#plt.plot(log_df['Timestamp'], log_df['loadcell2H']-log_df['loadcell2H'].mean(),label=\"HögerUtsida\")\n",
    "#plt.plot(log_df['Timestamp'], log_df['loadcell3H']-log_df['loadcell3H'].mean(),label=\"HögerBak\")\n",
    "#plt.plot(log_df['Timestamp'], log_df['loadcell1V']-log_df['loadcell1V'].mean(),label=\"VänsterInsida\")\n",
    "#plt.plot(log_df['Timestamp'], log_df['loadcell2V']-log_df['loadcell2V'].mean(),label=\"VänsterUtsida\")\n",
    "#plt.plot(log_df['Timestamp'], log_df['loadcell3V']-log_df['loadcell3V'].mean(),label=\"VänserBak\")\n",
    "plt.plot(log_df['Timestamp'], log_df['Distance'],label=\"Avstånd\")\n",
    "plt.legend()\n",
    "plt.show()\n"
   ]
  },
  {
   "cell_type": "markdown",
   "id": "ab240fd5",
   "metadata": {},
   "source": [
    "## Feet LoadCell Visualisation"
   ]
  },
  {
   "cell_type": "code",
   "execution_count": null,
   "id": "924f3140",
   "metadata": {},
   "outputs": [
    {
     "data": {
      "application/vnd.jupyter.widget-view+json": {
       "model_id": "3eaa101bc68744c4b24df10d538ef3ba",
       "version_major": 2,
       "version_minor": 0
      },
      "text/plain": [
       "interactive(children=(IntSlider(value=0, description='value_index', max=225), Output()), _dom_classes=('widget…"
      ]
     },
     "metadata": {},
     "output_type": "display_data"
    }
   ],
   "source": [
    "import numpy as np\n",
    "import matplotlib.pyplot as plt\n",
    "from ipywidgets import interact, IntSlider\n",
    "\n",
    "file_name = 'FullSetup_Walking'\n",
    "log_df = pd.read_csv(f\"Logging/ExampleLogs/{file_name}.txt\", header = None, delimiter=' ') \n",
    "  \n",
    "# adding column headings \n",
    "log_df.columns = ['Timestamp', 'Foot_H', 'loadcell1V','loadcell2V', 'loadcell3V','fel','Foot_V','loadcell1H','loadcell2H', 'loadcell3H', 'DistanceName', 'Distance'] \n",
    "\n",
    "# dropping unnececary columns\n",
    "log_df = log_df.drop(columns=['Foot_H', 'Foot_V','DistanceName','fel']) # \"fel\" is because of an unnecesary space, fixed in code so remove when no longer using outdated data\n",
    "\n",
    "# normalize data columns\n",
    "ScaleColumns = (\"loadcell1H\",'loadcell2H', 'loadcell3H','loadcell1V','loadcell2V', 'loadcell3V')\n",
    "for column in ScaleColumns:\n",
    "    log_df[column] = (log_df[column] - log_df[column].min()) / (log_df[column].max() - log_df[column].min())\n",
    "\n",
    "def draw_feet(value_index):\n",
    "    # Calculate circle RGB value\n",
    "    colors = [\n",
    "        (1 - float(log_df.loc[value_index, 'loadcell1V']), float(log_df.loc[value_index, 'loadcell1V']), 0),\n",
    "        (1 - float(log_df.loc[value_index, 'loadcell2V']), float(log_df.loc[value_index, 'loadcell2V']), 0),\n",
    "        (1 - float(log_df.loc[value_index, 'loadcell3V']), float(log_df.loc[value_index, 'loadcell3V']), 0),\n",
    "        (1 - float(log_df.loc[value_index, 'loadcell1H']), float(log_df.loc[value_index, 'loadcell1H']), 0),\n",
    "        (1 - float(log_df.loc[value_index, 'loadcell2H']), float(log_df.loc[value_index, 'loadcell2H']), 0),\n",
    "        (1 - float(log_df.loc[value_index, 'loadcell3H']), float(log_df.loc[value_index, 'loadcell3H']), 0)\n",
    "    ]\n",
    "    \n",
    "    # figure setup\n",
    "    fig, ax = plt.subplots()\n",
    "    ax.set_xlim(-2, 2)\n",
    "    ax.set_ylim(-3, 1)\n",
    "    ax.set_aspect('equal')\n",
    "    ax.axis('off')\n",
    "    \n",
    "    # Draw feet outline\n",
    "    foot_left = plt.Circle((-1, -1), 1, edgecolor='black', facecolor='none', linewidth=2)\n",
    "    foot_right = plt.Circle((1, -1), 1, edgecolor='black', facecolor='none', linewidth=2)\n",
    "    ax.add_patch(foot_left)\n",
    "    ax.add_patch(foot_right)\n",
    "    \n",
    "    # Circle positions relative to feet\n",
    "    positions = [(-0.8, -0.4), (-1.5, -0.6), (-1, -1.5), (0.8, -0.4), (1.5, -0.6), (1, -1.5)]\n",
    "    \n",
    "    # Draw circles\n",
    "    for i, (x, y) in enumerate(positions):\n",
    "        circle = plt.Circle((x, y), 0.2, edgecolor='black', facecolor=colors[i])\n",
    "        ax.add_patch(circle)\n",
    "    \n",
    "    plt.show()\n",
    "\n",
    "# Create slider\n",
    "interact(draw_feet, value_index=IntSlider(min=0, max=log_df['Timestamp'].shape[0]-1, step=1, value=0));\n"
   ]
  },
  {
   "cell_type": "markdown",
   "id": "9c1211fa-3c8b-40ba-a497-104927a31fbc",
   "metadata": {},
   "source": [
    "## Fourier transform on signals\n",
    "We preform the fourier transform in order to see what frequencies we might want to filter out.\n",
    "https://docs.scipy.org/doc/scipy/tutorial/fft.html"
   ]
  },
  {
   "cell_type": "code",
   "execution_count": null,
   "id": "ed20b349-bd12-4bd6-9c14-d2e5cf9328df",
   "metadata": {},
   "outputs": [],
   "source": [
    "# preforming the fourier transform and plotting using fft from scipy and plottig with plt"
   ]
  },
  {
   "cell_type": "markdown",
   "id": "d16c2ecc-9cec-489b-9dfa-97123e95b3b9",
   "metadata": {},
   "source": [
    "## Filtering\n",
    "Using filters a lot of the noise from the different signals can be removed.\n",
    "https://docs.scipy.org/doc/scipy/reference/signal.html"
   ]
  },
  {
   "cell_type": "code",
   "execution_count": null,
   "id": "8af7605b-01bf-4c23-a9ed-3741f53f47c0",
   "metadata": {},
   "outputs": [],
   "source": [
    "# Signal filtering using scipy.signal"
   ]
  },
  {
   "cell_type": "markdown",
   "id": "1b28cd44-81f5-4490-8c8d-5ff201568d73",
   "metadata": {},
   "source": [
    "## other pre-precessing\n",
    "I.E splitting the data into cycles of skiing and extracting the variables we want to input into the machine learning algorithm (How close the feet are togheter when the maximum pressure is reached, among others...)."
   ]
  },
  {
   "cell_type": "code",
   "execution_count": null,
   "id": "444ff786-1f80-4d8f-a43a-b6dffe4d9a3b",
   "metadata": {},
   "outputs": [],
   "source": [
    "# splitting the data into cycles using some threshhold for the data (ex perhaps the switch of acceleration direction of one of the boots)\n",
    "\n",
    "# extracting the variables we want to look at in the data (see rapport) and input into matrix."
   ]
  },
  {
   "cell_type": "markdown",
   "id": "7b70df8e-1b10-4df2-b301-1fd922888293",
   "metadata": {},
   "source": [
    "## Machine learning"
   ]
  },
  {
   "cell_type": "markdown",
   "id": "09c011cb-3c0a-4b3b-8bb8-29814efc956b",
   "metadata": {},
   "source": [
    "### train-test split\n",
    "Splitting the data into a training set and a test set (validation)\n",
    "https://scikit-learn.org/stable/modules/generated/sklearn.model_selection.train_test_split.html"
   ]
  },
  {
   "cell_type": "code",
   "execution_count": null,
   "id": "171e5176-a633-4699-809a-793d2f0d4816",
   "metadata": {},
   "outputs": [],
   "source": [
    "random_seed = 42\n",
    "\"\"\"\n",
    "x_train, x_test, y_train, y_test = train_test_split(features,\n",
    "                                                    labels,\n",
    "                                                    test_size=0.33,\n",
    "                                                    random_state=random_seed)\n",
    "\"\"\""
   ]
  },
  {
   "cell_type": "markdown",
   "id": "c2ebaf39-5a5f-4bb1-8faf-c82145704fda",
   "metadata": {},
   "source": [
    "### constructing model"
   ]
  },
  {
   "cell_type": "code",
   "execution_count": null,
   "id": "e2238aab-81ef-407c-8ba2-09b4c6c80616",
   "metadata": {},
   "outputs": [],
   "source": [
    "\"\"\"\n",
    "model = tf.keras.models.Sequential()\n",
    "model.add(tf.keras.layers.Flatten())\n",
    "model.add(tf.keras.layers.Dense(128,activation=tf.nn.relu,  \n",
    "                                activity_regularizer=tf.keras.regularizers.L2(1e-5))) # change 128 based on amount of input vaiables\n",
    "model.add(tf.keras.layers.Dense(128,activation=tf.nn.relu,\n",
    "                                activity_regularizer=tf.keras.regularizers.L2(1e-5))) # play around whith size to see what works (overfit->smaller, underfit->larger(or add another layer))\n",
    "model.add(tf.keras.layers.Dense(1,activation=tf.nn.softmax))\n",
    "\n",
    "model.compile(optimizer='SGD',\n",
    "              loss='sparse_categorical_crossentropy',\n",
    "              metrics=['accuracy']) # could perhaps add loss here aswell\n",
    "\"\"\""
   ]
  },
  {
   "cell_type": "markdown",
   "id": "1eb57f20-68b3-4dd6-958a-8dba42becf83",
   "metadata": {},
   "source": [
    "### training model"
   ]
  },
  {
   "cell_type": "code",
   "execution_count": null,
   "id": "2f0e079d-f647-4ebb-9b24-9db2f8232b79",
   "metadata": {},
   "outputs": [],
   "source": [
    "#model.fit(x_train,y_train,epochs=3) # probably add more epochs when we've found something that works"
   ]
  },
  {
   "cell_type": "markdown",
   "id": "f2c9b06d-8e94-496e-9d3f-d45e8311dfb0",
   "metadata": {},
   "source": [
    "### validating model performance\n"
   ]
  },
  {
   "cell_type": "code",
   "execution_count": null,
   "id": "5763c348-b6e9-441c-a150-2dbf2cffba3d",
   "metadata": {},
   "outputs": [],
   "source": [
    "#val_loss, val_accuracy = model.evaluate(x_test,y_test)\n",
    "#print(val_loss, val_accuracy)"
   ]
  }
 ],
 "metadata": {
  "kernelspec": {
   "display_name": "base",
   "language": "python",
   "name": "python3"
  },
  "language_info": {
   "codemirror_mode": {
    "name": "ipython",
    "version": 3
   },
   "file_extension": ".py",
   "mimetype": "text/x-python",
   "name": "python",
   "nbconvert_exporter": "python",
   "pygments_lexer": "ipython3",
   "version": "3.12.3"
  }
 },
 "nbformat": 4,
 "nbformat_minor": 5
}
