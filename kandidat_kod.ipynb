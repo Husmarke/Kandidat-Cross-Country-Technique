{
 "cells": [
  {
   "cell_type": "markdown",
   "id": "71bed436-6326-4dad-811a-fc616d6b993b",
   "metadata": {},
   "source": [
    "# Imports"
   ]
  },
  {
   "cell_type": "markdown",
   "id": "ee83d060-1128-47ee-839b-9a4923f1b803",
   "metadata": {},
   "source": [
    "### python libraries"
   ]
  },
  {
   "cell_type": "code",
   "execution_count": 2,
   "id": "6bc3cd28-bfd6-4dea-93fa-5cd5dc794aec",
   "metadata": {},
   "outputs": [],
   "source": [
    "import csv # for importing and working with .csv files\n",
    "import matplotlib.pyplot as plt # for plotting\n",
    "import scipy.fft as spfft # for functions such as fft\n",
    "import scipy.signal as spsig # for signal processing (filtering)\n",
    "import tensorflow as tf # for machine learning using tensorflow keras\n",
    "import pandas as pd"
   ]
  },
  {
   "cell_type": "markdown",
   "id": "c589cb43-5a82-4233-a84f-00cfd76824a0",
   "metadata": {},
   "source": [
    "### Files"
   ]
  },
  {
   "cell_type": "markdown",
   "id": "303b9d6a-1942-4159-9443-e521ebcfec12",
   "metadata": {},
   "source": [
    "### creating csv file from txt serial logger output "
   ]
  },
  {
   "cell_type": "code",
   "execution_count": null,
   "id": "782fee4b-a2e6-4d70-a9c1-80041f06c9df",
   "metadata": {},
   "outputs": [
    {
     "data": {
      "text/html": [
       "<div>\n",
       "<style scoped>\n",
       "    .dataframe tbody tr th:only-of-type {\n",
       "        vertical-align: middle;\n",
       "    }\n",
       "\n",
       "    .dataframe tbody tr th {\n",
       "        vertical-align: top;\n",
       "    }\n",
       "\n",
       "    .dataframe thead th {\n",
       "        text-align: right;\n",
       "    }\n",
       "</style>\n",
       "<table border=\"1\" class=\"dataframe\">\n",
       "  <thead>\n",
       "    <tr style=\"text-align: right;\">\n",
       "      <th></th>\n",
       "      <th>Timestamp</th>\n",
       "      <th>load1</th>\n",
       "      <th>load2</th>\n",
       "      <th>load3</th>\n",
       "    </tr>\n",
       "  </thead>\n",
       "  <tbody>\n",
       "    <tr>\n",
       "      <th>0</th>\n",
       "      <td>11:13:32.857</td>\n",
       "      <td>2</td>\n",
       "      <td>-6</td>\n",
       "      <td>0</td>\n",
       "    </tr>\n",
       "    <tr>\n",
       "      <th>1</th>\n",
       "      <td>11:13:32.956</td>\n",
       "      <td>5</td>\n",
       "      <td>-3</td>\n",
       "      <td>5</td>\n",
       "    </tr>\n",
       "    <tr>\n",
       "      <th>2</th>\n",
       "      <td>11:13:33.034</td>\n",
       "      <td>-16</td>\n",
       "      <td>0</td>\n",
       "      <td>0</td>\n",
       "    </tr>\n",
       "    <tr>\n",
       "      <th>3</th>\n",
       "      <td>11:13:33.148</td>\n",
       "      <td>-9</td>\n",
       "      <td>2</td>\n",
       "      <td>6</td>\n",
       "    </tr>\n",
       "    <tr>\n",
       "      <th>4</th>\n",
       "      <td>11:13:33.240</td>\n",
       "      <td>13</td>\n",
       "      <td>1</td>\n",
       "      <td>6</td>\n",
       "    </tr>\n",
       "    <tr>\n",
       "      <th>...</th>\n",
       "      <td>...</td>\n",
       "      <td>...</td>\n",
       "      <td>...</td>\n",
       "      <td>...</td>\n",
       "    </tr>\n",
       "    <tr>\n",
       "      <th>319</th>\n",
       "      <td>11:14:03.654</td>\n",
       "      <td>22</td>\n",
       "      <td>70</td>\n",
       "      <td>232</td>\n",
       "    </tr>\n",
       "    <tr>\n",
       "      <th>320</th>\n",
       "      <td>11:14:03.747</td>\n",
       "      <td>29</td>\n",
       "      <td>66</td>\n",
       "      <td>230</td>\n",
       "    </tr>\n",
       "    <tr>\n",
       "      <th>321</th>\n",
       "      <td>11:14:03.858</td>\n",
       "      <td>7</td>\n",
       "      <td>77</td>\n",
       "      <td>251</td>\n",
       "    </tr>\n",
       "    <tr>\n",
       "      <th>322</th>\n",
       "      <td>11:14:03.940</td>\n",
       "      <td>20</td>\n",
       "      <td>62</td>\n",
       "      <td>234</td>\n",
       "    </tr>\n",
       "    <tr>\n",
       "      <th>323</th>\n",
       "      <td>11:14:04.044</td>\n",
       "      <td>9</td>\n",
       "      <td>70</td>\n",
       "      <td>2</td>\n",
       "    </tr>\n",
       "  </tbody>\n",
       "</table>\n",
       "<p>324 rows × 4 columns</p>\n",
       "</div>"
      ],
      "text/plain": [
       "        Timestamp  load1  load2  load3\n",
       "0    11:13:32.857      2     -6      0\n",
       "1    11:13:32.956      5     -3      5\n",
       "2    11:13:33.034    -16      0      0\n",
       "3    11:13:33.148     -9      2      6\n",
       "4    11:13:33.240     13      1      6\n",
       "..            ...    ...    ...    ...\n",
       "319  11:14:03.654     22     70    232\n",
       "320  11:14:03.747     29     66    230\n",
       "321  11:14:03.858      7     77    251\n",
       "322  11:14:03.940     20     62    234\n",
       "323  11:14:04.044      9     70      2\n",
       "\n",
       "[324 rows x 4 columns]"
      ]
     },
     "metadata": {},
     "output_type": "display_data"
    }
   ],
   "source": [
    "# reading txt file and separating with spaces\n",
    "file_name = '3LoadCells_2'\n",
    "log_df = pd.read_csv(f\"Logging/ExampleLogs/{file_name}.txt\", header = None, delimiter=' ') \n",
    "  \n",
    "# adding column headings \n",
    "log_df.columns = ['Timestamp', 'cell1', 'load1','cell2', 'load2','cell3', 'load3'] \n",
    "\n",
    "# dropping unnececary columns\n",
    "log_df = log_df.drop(columns=['cell1', 'cell2','cell3'])\n",
    "\n",
    "# store dataframe as csv\n",
    "log_df.to_csv(f'Logging/{file_name}.csv', index = None) \n",
    "display(log_df)"
   ]
  },
  {
   "cell_type": "markdown",
   "id": "9b5e06f8-c903-459a-8956-05d9f9423796",
   "metadata": {},
   "source": [
    "### Plotting collected data"
   ]
  },
  {
   "cell_type": "code",
   "execution_count": null,
   "id": "c2b37900-11a8-4de8-aba8-0e943470617b",
   "metadata": {},
   "outputs": [
    {
     "ename": "KeyError",
     "evalue": "'Distance'",
     "output_type": "error",
     "traceback": [
      "\u001b[1;31m---------------------------------------------------------------------------\u001b[0m",
      "\u001b[1;31mKeyError\u001b[0m                                  Traceback (most recent call last)",
      "File \u001b[1;32mc:\\Users\\ellio\\anaconda3\\Lib\\site-packages\\pandas\\core\\indexes\\base.py:3805\u001b[0m, in \u001b[0;36mIndex.get_loc\u001b[1;34m(self, key)\u001b[0m\n\u001b[0;32m   3804\u001b[0m \u001b[38;5;28;01mtry\u001b[39;00m:\n\u001b[1;32m-> 3805\u001b[0m     \u001b[38;5;28;01mreturn\u001b[39;00m \u001b[38;5;28mself\u001b[39m\u001b[38;5;241m.\u001b[39m_engine\u001b[38;5;241m.\u001b[39mget_loc(casted_key)\n\u001b[0;32m   3806\u001b[0m \u001b[38;5;28;01mexcept\u001b[39;00m \u001b[38;5;167;01mKeyError\u001b[39;00m \u001b[38;5;28;01mas\u001b[39;00m err:\n",
      "File \u001b[1;32mindex.pyx:167\u001b[0m, in \u001b[0;36mpandas._libs.index.IndexEngine.get_loc\u001b[1;34m()\u001b[0m\n",
      "File \u001b[1;32mindex.pyx:196\u001b[0m, in \u001b[0;36mpandas._libs.index.IndexEngine.get_loc\u001b[1;34m()\u001b[0m\n",
      "File \u001b[1;32mpandas\\\\_libs\\\\hashtable_class_helper.pxi:7081\u001b[0m, in \u001b[0;36mpandas._libs.hashtable.PyObjectHashTable.get_item\u001b[1;34m()\u001b[0m\n",
      "File \u001b[1;32mpandas\\\\_libs\\\\hashtable_class_helper.pxi:7089\u001b[0m, in \u001b[0;36mpandas._libs.hashtable.PyObjectHashTable.get_item\u001b[1;34m()\u001b[0m\n",
      "\u001b[1;31mKeyError\u001b[0m: 'Distance'",
      "\nThe above exception was the direct cause of the following exception:\n",
      "\u001b[1;31mKeyError\u001b[0m                                  Traceback (most recent call last)",
      "Cell \u001b[1;32mIn[7], line 9\u001b[0m\n\u001b[0;32m      5\u001b[0m \u001b[38;5;66;03m# removing measurents errors\u001b[39;00m\n\u001b[0;32m      6\u001b[0m \u001b[38;5;66;03m#log_df = log_df.drop(log_df[log_df.Distance > 90].index)\u001b[39;00m\n\u001b[0;32m      7\u001b[0m \u001b[38;5;66;03m# plotting data\u001b[39;00m\n\u001b[0;32m      8\u001b[0m fig, ax \u001b[38;5;241m=\u001b[39m plt\u001b[38;5;241m.\u001b[39msubplots(figsize \u001b[38;5;241m=\u001b[39m (\u001b[38;5;241m12\u001b[39m, \u001b[38;5;241m8\u001b[39m))\n\u001b[1;32m----> 9\u001b[0m ax \u001b[38;5;241m=\u001b[39m log_df\u001b[38;5;241m.\u001b[39mplot(x\u001b[38;5;241m=\u001b[39m\u001b[38;5;124m'\u001b[39m\u001b[38;5;124mTimestamp\u001b[39m\u001b[38;5;124m'\u001b[39m, y\u001b[38;5;241m=\u001b[39m\u001b[38;5;124m'\u001b[39m\u001b[38;5;124mDistance\u001b[39m\u001b[38;5;124m'\u001b[39m, kind\u001b[38;5;241m=\u001b[39m\u001b[38;5;124m'\u001b[39m\u001b[38;5;124mline\u001b[39m\u001b[38;5;124m'\u001b[39m)\n\u001b[0;32m     10\u001b[0m plt\u001b[38;5;241m.\u001b[39msetp(ax\u001b[38;5;241m.\u001b[39mget_xticklabels(), rotation\u001b[38;5;241m=\u001b[39m\u001b[38;5;241m30\u001b[39m, horizontalalignment\u001b[38;5;241m=\u001b[39m\u001b[38;5;124m'\u001b[39m\u001b[38;5;124mright\u001b[39m\u001b[38;5;124m'\u001b[39m)\n\u001b[0;32m     11\u001b[0m plt\u001b[38;5;241m.\u001b[39mshow()\n",
      "File \u001b[1;32mc:\\Users\\ellio\\anaconda3\\Lib\\site-packages\\pandas\\plotting\\_core.py:1016\u001b[0m, in \u001b[0;36mPlotAccessor.__call__\u001b[1;34m(self, *args, **kwargs)\u001b[0m\n\u001b[0;32m   1013\u001b[0m             \u001b[38;5;28;01mpass\u001b[39;00m\n\u001b[0;32m   1015\u001b[0m \u001b[38;5;66;03m# don't overwrite\u001b[39;00m\n\u001b[1;32m-> 1016\u001b[0m data \u001b[38;5;241m=\u001b[39m data[y]\u001b[38;5;241m.\u001b[39mcopy()\n\u001b[0;32m   1018\u001b[0m \u001b[38;5;28;01mif\u001b[39;00m \u001b[38;5;28misinstance\u001b[39m(data, ABCSeries):\n\u001b[0;32m   1019\u001b[0m     label_name \u001b[38;5;241m=\u001b[39m label_kw \u001b[38;5;129;01mor\u001b[39;00m y\n",
      "File \u001b[1;32mc:\\Users\\ellio\\anaconda3\\Lib\\site-packages\\pandas\\core\\frame.py:4102\u001b[0m, in \u001b[0;36mDataFrame.__getitem__\u001b[1;34m(self, key)\u001b[0m\n\u001b[0;32m   4100\u001b[0m \u001b[38;5;28;01mif\u001b[39;00m \u001b[38;5;28mself\u001b[39m\u001b[38;5;241m.\u001b[39mcolumns\u001b[38;5;241m.\u001b[39mnlevels \u001b[38;5;241m>\u001b[39m \u001b[38;5;241m1\u001b[39m:\n\u001b[0;32m   4101\u001b[0m     \u001b[38;5;28;01mreturn\u001b[39;00m \u001b[38;5;28mself\u001b[39m\u001b[38;5;241m.\u001b[39m_getitem_multilevel(key)\n\u001b[1;32m-> 4102\u001b[0m indexer \u001b[38;5;241m=\u001b[39m \u001b[38;5;28mself\u001b[39m\u001b[38;5;241m.\u001b[39mcolumns\u001b[38;5;241m.\u001b[39mget_loc(key)\n\u001b[0;32m   4103\u001b[0m \u001b[38;5;28;01mif\u001b[39;00m is_integer(indexer):\n\u001b[0;32m   4104\u001b[0m     indexer \u001b[38;5;241m=\u001b[39m [indexer]\n",
      "File \u001b[1;32mc:\\Users\\ellio\\anaconda3\\Lib\\site-packages\\pandas\\core\\indexes\\base.py:3812\u001b[0m, in \u001b[0;36mIndex.get_loc\u001b[1;34m(self, key)\u001b[0m\n\u001b[0;32m   3807\u001b[0m     \u001b[38;5;28;01mif\u001b[39;00m \u001b[38;5;28misinstance\u001b[39m(casted_key, \u001b[38;5;28mslice\u001b[39m) \u001b[38;5;129;01mor\u001b[39;00m (\n\u001b[0;32m   3808\u001b[0m         \u001b[38;5;28misinstance\u001b[39m(casted_key, abc\u001b[38;5;241m.\u001b[39mIterable)\n\u001b[0;32m   3809\u001b[0m         \u001b[38;5;129;01mand\u001b[39;00m \u001b[38;5;28many\u001b[39m(\u001b[38;5;28misinstance\u001b[39m(x, \u001b[38;5;28mslice\u001b[39m) \u001b[38;5;28;01mfor\u001b[39;00m x \u001b[38;5;129;01min\u001b[39;00m casted_key)\n\u001b[0;32m   3810\u001b[0m     ):\n\u001b[0;32m   3811\u001b[0m         \u001b[38;5;28;01mraise\u001b[39;00m InvalidIndexError(key)\n\u001b[1;32m-> 3812\u001b[0m     \u001b[38;5;28;01mraise\u001b[39;00m \u001b[38;5;167;01mKeyError\u001b[39;00m(key) \u001b[38;5;28;01mfrom\u001b[39;00m \u001b[38;5;21;01merr\u001b[39;00m\n\u001b[0;32m   3813\u001b[0m \u001b[38;5;28;01mexcept\u001b[39;00m \u001b[38;5;167;01mTypeError\u001b[39;00m:\n\u001b[0;32m   3814\u001b[0m     \u001b[38;5;66;03m# If we have a listlike key, _check_indexing_error will raise\u001b[39;00m\n\u001b[0;32m   3815\u001b[0m     \u001b[38;5;66;03m#  InvalidIndexError. Otherwise we fall through and re-raise\u001b[39;00m\n\u001b[0;32m   3816\u001b[0m     \u001b[38;5;66;03m#  the TypeError.\u001b[39;00m\n\u001b[0;32m   3817\u001b[0m     \u001b[38;5;28mself\u001b[39m\u001b[38;5;241m.\u001b[39m_check_indexing_error(key)\n",
      "\u001b[1;31mKeyError\u001b[0m: 'Distance'"
     ]
    },
    {
     "data": {
      "image/png": "[encoded data removed]",
      "text/plain": [
       "<Figure size 1200x800 with 1 Axes>"
      ]
     },
     "metadata": {},
     "output_type": "display_data"
    }
   ],
   "source": [
    "# setting name of file to read\n",
    "file_name = '3LoadCells_2'\n",
    "# creating dataframe of file\n",
    "log_df = log_df = pd.read_csv(f\"Logging/{file_name}.csv\") \n",
    "# removing measurents errors\n",
    "log_df = log_df.drop(log_df[log_df.Distance > 90].index)\n",
    "# plotting data\n",
    "fig, ax = plt.subplots(figsize = (12, 8))\n",
    "ax = log_df.plot(x='Timestamp', y='Distance', kind='line')\n",
    "plt.setp(ax.get_xticklabels(), rotation=30, horizontalalignment='right')\n",
    "plt.show()"
   ]
  },
  {
   "cell_type": "code",
   "execution_count": null,
   "id": "cfe1ed12",
   "metadata": {},
   "outputs": [
    {
     "ename": "ValueError",
     "evalue": "Length mismatch: Expected axis has 12 elements, new values have 11 elements",
     "output_type": "error",
     "traceback": [
      "\u001b[1;31m---------------------------------------------------------------------------\u001b[0m",
      "\u001b[1;31mValueError\u001b[0m                                Traceback (most recent call last)",
      "Cell \u001b[1;32mIn[3], line 6\u001b[0m\n\u001b[0;32m      3\u001b[0m log_df \u001b[38;5;241m=\u001b[39m pd\u001b[38;5;241m.\u001b[39mread_csv(\u001b[38;5;124mf\u001b[39m\u001b[38;5;124m\"\u001b[39m\u001b[38;5;124mLogging/ExampleLogs/\u001b[39m\u001b[38;5;132;01m{\u001b[39;00mfile_name\u001b[38;5;132;01m}\u001b[39;00m\u001b[38;5;124m.txt\u001b[39m\u001b[38;5;124m\"\u001b[39m, header \u001b[38;5;241m=\u001b[39m \u001b[38;5;28;01mNone\u001b[39;00m, delimiter\u001b[38;5;241m=\u001b[39m\u001b[38;5;124m'\u001b[39m\u001b[38;5;124m \u001b[39m\u001b[38;5;124m'\u001b[39m) \n\u001b[0;32m      5\u001b[0m \u001b[38;5;66;03m# adding column headings \u001b[39;00m\n\u001b[1;32m----> 6\u001b[0m log_df\u001b[38;5;241m.\u001b[39mcolumns \u001b[38;5;241m=\u001b[39m [\u001b[38;5;124m'\u001b[39m\u001b[38;5;124mTimestamp\u001b[39m\u001b[38;5;124m'\u001b[39m, \u001b[38;5;124m'\u001b[39m\u001b[38;5;124mFoot_H\u001b[39m\u001b[38;5;124m'\u001b[39m, \u001b[38;5;124m'\u001b[39m\u001b[38;5;124mloadcell1H\u001b[39m\u001b[38;5;124m'\u001b[39m,\u001b[38;5;124m'\u001b[39m\u001b[38;5;124mloadcell2H\u001b[39m\u001b[38;5;124m'\u001b[39m, \u001b[38;5;124m'\u001b[39m\u001b[38;5;124mloadcell3H\u001b[39m\u001b[38;5;124m'\u001b[39m,\u001b[38;5;124m'\u001b[39m\u001b[38;5;124mFoot_V\u001b[39m\u001b[38;5;124m'\u001b[39m,\u001b[38;5;124m'\u001b[39m\u001b[38;5;124mloadcell1V\u001b[39m\u001b[38;5;124m'\u001b[39m,\u001b[38;5;124m'\u001b[39m\u001b[38;5;124mloadcell2V\u001b[39m\u001b[38;5;124m'\u001b[39m, \u001b[38;5;124m'\u001b[39m\u001b[38;5;124mloadcell3V\u001b[39m\u001b[38;5;124m'\u001b[39m, \u001b[38;5;124m'\u001b[39m\u001b[38;5;124mDistanceName\u001b[39m\u001b[38;5;124m'\u001b[39m, \u001b[38;5;124m'\u001b[39m\u001b[38;5;124mDistance\u001b[39m\u001b[38;5;124m'\u001b[39m] \n\u001b[0;32m      8\u001b[0m \u001b[38;5;66;03m# dropping unnececary columns\u001b[39;00m\n\u001b[0;32m      9\u001b[0m log_df \u001b[38;5;241m=\u001b[39m log_df\u001b[38;5;241m.\u001b[39mdrop(columns\u001b[38;5;241m=\u001b[39m[\u001b[38;5;124m'\u001b[39m\u001b[38;5;124mFoot_H\u001b[39m\u001b[38;5;124m'\u001b[39m, \u001b[38;5;124m'\u001b[39m\u001b[38;5;124mFoot_V\u001b[39m\u001b[38;5;124m'\u001b[39m,\u001b[38;5;124m'\u001b[39m\u001b[38;5;124mDistanceName\u001b[39m\u001b[38;5;124m'\u001b[39m])\n",
      "File \u001b[1;32mc:\\Users\\ellio\\anaconda3\\Lib\\site-packages\\pandas\\core\\generic.py:6313\u001b[0m, in \u001b[0;36mNDFrame.__setattr__\u001b[1;34m(self, name, value)\u001b[0m\n\u001b[0;32m   6311\u001b[0m \u001b[38;5;28;01mtry\u001b[39;00m:\n\u001b[0;32m   6312\u001b[0m     \u001b[38;5;28mobject\u001b[39m\u001b[38;5;241m.\u001b[39m\u001b[38;5;21m__getattribute__\u001b[39m(\u001b[38;5;28mself\u001b[39m, name)\n\u001b[1;32m-> 6313\u001b[0m     \u001b[38;5;28;01mreturn\u001b[39;00m \u001b[38;5;28mobject\u001b[39m\u001b[38;5;241m.\u001b[39m\u001b[38;5;21m__setattr__\u001b[39m(\u001b[38;5;28mself\u001b[39m, name, value)\n\u001b[0;32m   6314\u001b[0m \u001b[38;5;28;01mexcept\u001b[39;00m \u001b[38;5;167;01mAttributeError\u001b[39;00m:\n\u001b[0;32m   6315\u001b[0m     \u001b[38;5;28;01mpass\u001b[39;00m\n",
      "File \u001b[1;32mproperties.pyx:69\u001b[0m, in \u001b[0;36mpandas._libs.properties.AxisProperty.__set__\u001b[1;34m()\u001b[0m\n",
      "File \u001b[1;32mc:\\Users\\ellio\\anaconda3\\Lib\\site-packages\\pandas\\core\\generic.py:814\u001b[0m, in \u001b[0;36mNDFrame._set_axis\u001b[1;34m(self, axis, labels)\u001b[0m\n\u001b[0;32m    809\u001b[0m \u001b[38;5;250m\u001b[39m\u001b[38;5;124;03m\"\"\"\u001b[39;00m\n\u001b[0;32m    810\u001b[0m \u001b[38;5;124;03mThis is called from the cython code when we set the `index` attribute\u001b[39;00m\n\u001b[0;32m    811\u001b[0m \u001b[38;5;124;03mdirectly, e.g. `series.index = [1, 2, 3]`.\u001b[39;00m\n\u001b[0;32m    812\u001b[0m \u001b[38;5;124;03m\"\"\"\u001b[39;00m\n\u001b[0;32m    813\u001b[0m labels \u001b[38;5;241m=\u001b[39m ensure_index(labels)\n\u001b[1;32m--> 814\u001b[0m \u001b[38;5;28mself\u001b[39m\u001b[38;5;241m.\u001b[39m_mgr\u001b[38;5;241m.\u001b[39mset_axis(axis, labels)\n\u001b[0;32m    815\u001b[0m \u001b[38;5;28mself\u001b[39m\u001b[38;5;241m.\u001b[39m_clear_item_cache()\n",
      "File \u001b[1;32mc:\\Users\\ellio\\anaconda3\\Lib\\site-packages\\pandas\\core\\internals\\managers.py:238\u001b[0m, in \u001b[0;36mBaseBlockManager.set_axis\u001b[1;34m(self, axis, new_labels)\u001b[0m\n\u001b[0;32m    236\u001b[0m \u001b[38;5;28;01mdef\u001b[39;00m \u001b[38;5;21mset_axis\u001b[39m(\u001b[38;5;28mself\u001b[39m, axis: AxisInt, new_labels: Index) \u001b[38;5;241m-\u001b[39m\u001b[38;5;241m>\u001b[39m \u001b[38;5;28;01mNone\u001b[39;00m:\n\u001b[0;32m    237\u001b[0m     \u001b[38;5;66;03m# Caller is responsible for ensuring we have an Index object.\u001b[39;00m\n\u001b[1;32m--> 238\u001b[0m     \u001b[38;5;28mself\u001b[39m\u001b[38;5;241m.\u001b[39m_validate_set_axis(axis, new_labels)\n\u001b[0;32m    239\u001b[0m     \u001b[38;5;28mself\u001b[39m\u001b[38;5;241m.\u001b[39maxes[axis] \u001b[38;5;241m=\u001b[39m new_labels\n",
      "File \u001b[1;32mc:\\Users\\ellio\\anaconda3\\Lib\\site-packages\\pandas\\core\\internals\\base.py:98\u001b[0m, in \u001b[0;36mDataManager._validate_set_axis\u001b[1;34m(self, axis, new_labels)\u001b[0m\n\u001b[0;32m     95\u001b[0m     \u001b[38;5;28;01mpass\u001b[39;00m\n\u001b[0;32m     97\u001b[0m \u001b[38;5;28;01melif\u001b[39;00m new_len \u001b[38;5;241m!=\u001b[39m old_len:\n\u001b[1;32m---> 98\u001b[0m     \u001b[38;5;28;01mraise\u001b[39;00m \u001b[38;5;167;01mValueError\u001b[39;00m(\n\u001b[0;32m     99\u001b[0m         \u001b[38;5;124mf\u001b[39m\u001b[38;5;124m\"\u001b[39m\u001b[38;5;124mLength mismatch: Expected axis has \u001b[39m\u001b[38;5;132;01m{\u001b[39;00mold_len\u001b[38;5;132;01m}\u001b[39;00m\u001b[38;5;124m elements, new \u001b[39m\u001b[38;5;124m\"\u001b[39m\n\u001b[0;32m    100\u001b[0m         \u001b[38;5;124mf\u001b[39m\u001b[38;5;124m\"\u001b[39m\u001b[38;5;124mvalues have \u001b[39m\u001b[38;5;132;01m{\u001b[39;00mnew_len\u001b[38;5;132;01m}\u001b[39;00m\u001b[38;5;124m elements\u001b[39m\u001b[38;5;124m\"\u001b[39m\n\u001b[0;32m    101\u001b[0m     )\n",
      "\u001b[1;31mValueError\u001b[0m: Length mismatch: Expected axis has 12 elements, new values have 11 elements"
     ]
    }
   ],
   "source": [
    "# reading txt file and separating with spaces\n",
    "file_name = 'FullSetup_Walking'\n",
    "log_df = pd.read_csv(f\"Logging/ExampleLogs/{file_name}.txt\", header = None, delimiter=' ') \n",
    "  \n",
    "# adding column headings \n",
    "log_df.columns = ['Timestamp', 'Foot_H', 'loadcell1H','loadcell2H', 'loadcell3H','fel','Foot_V','loadcell1V','loadcell2V', 'loadcell3V', 'DistanceName', 'Distance'] \n",
    "\n",
    "# dropping unnececary columns\n",
    "log_df = log_df.drop(columns=['Foot_H', 'Foot_V','DistanceName','fel'])\n",
    "\n",
    "plt.plot(log_df['Timestamp'], log_df['loadcell1H'],label=\"HögerInsida\")\n",
    "plt.plot(log_df['Timestamp'], log_df['loadcell2H'],label=\"HögerUtsida\")\n",
    "plt.plot(log_df['Timestamp'], log_df['loadcell3H'],label=\"HögerBak\")\n",
    "plt.plot(log_df['Timestamp'], log_df['loadcell1V'],label=\"VänsterInsida\")\n",
    "plt.plot(log_df['Timestamp'], log_df['loadcell2V'],label=\"VänsterUtsida\")\n",
    "plt.plot(log_df['Timestamp'], log_df['loadcell3V'],label=\"VänserBak\")\n",
    "plt.plot(log_df['Timestamp'], log_df['Distance'],label=\"Avstånd\")\n",
    "plt.legend()\n",
    "plt.show()\n"
   ]
  },
  {
   "cell_type": "markdown",
   "id": "9c1211fa-3c8b-40ba-a497-104927a31fbc",
   "metadata": {},
   "source": [
    "## Fourier transform on signals\n",
    "We preform the fourier transform in order to see what frequencies we might want to filter out.\n",
    "https://docs.scipy.org/doc/scipy/tutorial/fft.html"
   ]
  },
  {
   "cell_type": "code",
   "execution_count": null,
   "id": "ed20b349-bd12-4bd6-9c14-d2e5cf9328df",
   "metadata": {},
   "outputs": [],
   "source": [
    "# preforming the fourier transform and plotting using fft from scipy and plottig with plt"
   ]
  },
  {
   "cell_type": "markdown",
   "id": "d16c2ecc-9cec-489b-9dfa-97123e95b3b9",
   "metadata": {},
   "source": [
    "## Filtering\n",
    "Using filters a lot of the noise from the different signals can be removed.\n",
    "https://docs.scipy.org/doc/scipy/reference/signal.html"
   ]
  },
  {
   "cell_type": "code",
   "execution_count": null,
   "id": "8af7605b-01bf-4c23-a9ed-3741f53f47c0",
   "metadata": {},
   "outputs": [],
   "source": [
    "# Signal filtering using scipy.signal"
   ]
  },
  {
   "cell_type": "markdown",
   "id": "1b28cd44-81f5-4490-8c8d-5ff201568d73",
   "metadata": {},
   "source": [
    "## other pre-precessing\n",
    "I.E splitting the data into cycles of skiing and extracting the variables we want to input into the machine learning algorithm (How close the feet are togheter when the maximum pressure is reached, among others...)."
   ]
  },
  {
   "cell_type": "code",
   "execution_count": null,
   "id": "444ff786-1f80-4d8f-a43a-b6dffe4d9a3b",
   "metadata": {},
   "outputs": [],
   "source": [
    "# splitting the data into cycles using some threshhold for the data (ex perhaps the switch of acceleration direction of one of the boots)\n",
    "\n",
    "# extracting the variables we want to look at in the data (see rapport) and input into matrix."
   ]
  },
  {
   "cell_type": "markdown",
   "id": "7b70df8e-1b10-4df2-b301-1fd922888293",
   "metadata": {},
   "source": [
    "## Machine learning"
   ]
  },
  {
   "cell_type": "markdown",
   "id": "09c011cb-3c0a-4b3b-8bb8-29814efc956b",
   "metadata": {},
   "source": [
    "### train-test split\n",
    "Splitting the data into a training set and a test set (validation)\n",
    "https://scikit-learn.org/stable/modules/generated/sklearn.model_selection.train_test_split.html"
   ]
  },
  {
   "cell_type": "code",
   "execution_count": null,
   "id": "171e5176-a633-4699-809a-793d2f0d4816",
   "metadata": {},
   "outputs": [],
   "source": [
    "random_seed = 42\n",
    "\"\"\"\n",
    "x_train, x_test, y_train, y_test = train_test_split(features,\n",
    "                                                    labels,\n",
    "                                                    test_size=0.33,\n",
    "                                                    random_state=random_seed)\n",
    "\"\"\""
   ]
  },
  {
   "cell_type": "markdown",
   "id": "c2ebaf39-5a5f-4bb1-8faf-c82145704fda",
   "metadata": {},
   "source": [
    "### constructing model"
   ]
  },
  {
   "cell_type": "code",
   "execution_count": null,
   "id": "e2238aab-81ef-407c-8ba2-09b4c6c80616",
   "metadata": {},
   "outputs": [],
   "source": [
    "\"\"\"\n",
    "model = tf.keras.models.Sequential()\n",
    "model.add(tf.keras.layers.Flatten())\n",
    "model.add(tf.keras.layers.Dense(128,activation=tf.nn.relu,  \n",
    "                                activity_regularizer=tf.keras.regularizers.L2(1e-5))) # change 128 based on amount of input vaiables\n",
    "model.add(tf.keras.layers.Dense(128,activation=tf.nn.relu,\n",
    "                                activity_regularizer=tf.keras.regularizers.L2(1e-5))) # play around whith size to see what works (overfit->smaller, underfit->larger(or add another layer))\n",
    "model.add(tf.keras.layers.Dense(1,activation=tf.nn.softmax))\n",
    "\n",
    "model.compile(optimizer='SGD',\n",
    "              loss='sparse_categorical_crossentropy',\n",
    "              metrics=['accuracy']) # could perhaps add loss here aswell\n",
    "\"\"\""
   ]
  },
  {
   "cell_type": "markdown",
   "id": "1eb57f20-68b3-4dd6-958a-8dba42becf83",
   "metadata": {},
   "source": [
    "### training model"
   ]
  },
  {
   "cell_type": "code",
   "execution_count": null,
   "id": "2f0e079d-f647-4ebb-9b24-9db2f8232b79",
   "metadata": {},
   "outputs": [],
   "source": [
    "#model.fit(x_train,y_train,epochs=3) # probably add more epochs when we've found something that works"
   ]
  },
  {
   "cell_type": "markdown",
   "id": "f2c9b06d-8e94-496e-9d3f-d45e8311dfb0",
   "metadata": {},
   "source": [
    "### validating model performance\n"
   ]
  },
  {
   "cell_type": "code",
   "execution_count": null,
   "id": "5763c348-b6e9-441c-a150-2dbf2cffba3d",
   "metadata": {},
   "outputs": [],
   "source": [
    "#val_loss, val_accuracy = model.evaluate(x_test,y_test)\n",
    "#print(val_loss, val_accuracy)"
   ]
  }
 ],
 "metadata": {
  "kernelspec": {
   "display_name": "base",
   "language": "python",
   "name": "python3"
  },
  "language_info": {
   "codemirror_mode": {
    "name": "ipython",
    "version": 3
   },
   "file_extension": ".py",
   "mimetype": "text/x-python",
   "name": "python",
   "nbconvert_exporter": "python",
   "pygments_lexer": "ipython3",
   "version": "3.12.3"
  }
 },
 "nbformat": 4,
 "nbformat_minor": 5
}
